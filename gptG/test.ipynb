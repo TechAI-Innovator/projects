{
 "cells": [
  {
   "cell_type": "code",
   "execution_count": 1,
   "metadata": {},
   "outputs": [],
   "source": [
    "import mysql.connector\n",
    "from datetime import datetime\n",
    "from werkzeug.security import generate_password_hash, check_password_hash\n",
    "import csv\n",
    "import random\n",
    "import string\n",
    "from flask import make_response\n",
    "from random import randint\n",
    "import os\n",
    "from dotenv import load_dotenv\n",
    "\n",
    "password = os.getenv(\"sql_pw\")\n",
    "\n",
    "\n",
    "# Database connection\n",
    "def get_db_connection():\n",
    "    return mysql.connector.connect(\n",
    "        host=\"localhost\",\n",
    "        user=\"root\",\n",
    "        password=password,\n",
    "        database=\"school_system\"\n",
    "    )"
   ]
  },
  {
   "cell_type": "code",
   "execution_count": 4,
   "metadata": {},
   "outputs": [],
   "source": [
    "def get_all_terms():\n",
    "    try:\n",
    "        conn = get_db_connection()\n",
    "        cursor = conn.cursor(dictionary=True)\n",
    "\n",
    "        # Fetch all terms\n",
    "        query = \"SELECT term_id AS id, CONCAT(term, ' - ', year) AS term FROM terms ORDER BY year, term\"\n",
    "        cursor.execute(query)\n",
    "        results = cursor.fetchall()\n",
    "        print(results)\n",
    "        return results\n",
    "    except Exception as e:\n",
    "        print(f\"Error fetching all terms: {e}\")\n",
    "        return []\n",
    "    finally:\n",
    "        conn.close()"
   ]
  },
  {
   "cell_type": "code",
   "execution_count": 6,
   "metadata": {},
   "outputs": [
    {
     "data": {
      "text/plain": [
       "[{'id': 5, 'term': 'Term 1 - 2024'},\n",
       " {'id': 6, 'term': 'Term 2 - 2024'},\n",
       " {'id': 7, 'term': 'Term 3 - 2024'},\n",
       " {'id': 32, 'term': 'Term 1 - 2025'}]"
      ]
     },
     "execution_count": 6,
     "metadata": {},
     "output_type": "execute_result"
    }
   ],
   "source": [
    "get_all_terms()"
   ]
  },
  {
   "cell_type": "code",
   "execution_count": null,
   "metadata": {},
   "outputs": [],
   "source": []
  }
 ],
 "metadata": {
  "kernelspec": {
   "display_name": "Python 3",
   "language": "python",
   "name": "python3"
  },
  "language_info": {
   "codemirror_mode": {
    "name": "ipython",
    "version": 3
   },
   "file_extension": ".py",
   "mimetype": "text/x-python",
   "name": "python",
   "nbconvert_exporter": "python",
   "pygments_lexer": "ipython3",
   "version": "3.12.6"
  }
 },
 "nbformat": 4,
 "nbformat_minor": 2
}
