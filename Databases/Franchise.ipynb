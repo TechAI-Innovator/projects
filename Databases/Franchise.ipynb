{
 "cells": [
  {
   "cell_type": "code",
   "execution_count": 2,
   "metadata": {},
   "outputs": [],
   "source": [
    "import mysql.connector\n",
    "from mysql.connector import Error\n",
    "import os\n",
    "import datetime\n",
    "from dotenv import load_dotenv"
   ]
  },
  {
   "cell_type": "code",
   "execution_count": 3,
   "metadata": {},
   "outputs": [],
   "source": [
    "user_password = os.environ.get('mysql_password')"
   ]
  },
  {
   "cell_type": "code",
   "execution_count": 4,
   "metadata": {},
   "outputs": [
    {
     "name": "stdout",
     "output_type": "stream",
     "text": [
      "connection to database was successful\n"
     ]
    }
   ],
   "source": [
    "try:\n",
    "    connection = mysql.connector.connect(host = 'localhost', user = 'root',\n",
    "                                         password = user_password, database = 'franchise')\n",
    "    print('connection to database was successful')\n",
    "except Error as err:\n",
    "    print(err) #mysql will give you an error but you wont see it in python.\n",
    "                #So to see it in python, we call the error message with \"err\" and print it\n",
    "    "
   ]
  },
  {
   "cell_type": "code",
   "execution_count": 5,
   "metadata": {},
   "outputs": [
    {
     "name": "stdout",
     "output_type": "stream",
     "text": [
      "1062 (23000): Duplicate entry 'prd101' for key 'products.PRIMARY'\n"
     ]
    }
   ],
   "source": [
    "#This code inserts one by one\n",
    "insert_prd = '''\n",
    "insert into products (product_id, product_name, stock_count, price)\n",
    "values (%s, %s, %s, %s)\n",
    "'''\n",
    "\n",
    "try:\n",
    "    with connection.cursor(buffered=True) as cursor:\n",
    "        #'as' means \"=\", i.e cursor = connection.cursor\n",
    "        cursor.execute(insert_prd, ('prd101', '5okg cap rice', 20, 84000))\n",
    "        connection.commit()\n",
    "        print(f'{cursor.rowcount} record(s) successfully entered')\n",
    "\n",
    "except Error as err:\n",
    "    print(err)"
   ]
  },
  {
   "cell_type": "code",
   "execution_count": 6,
   "metadata": {},
   "outputs": [],
   "source": [
    "products = [('prd102', '5litre sunola oil', 30, 11500),\n",
    "            ('prd103', 'Ducros Curry', 50, 850),\n",
    "            ('prd104', 'pink himalayan salt', 10, 5000),\n",
    "            ('prd105', 'Dangote salt 1kg', 100, 350),\n",
    "            ('prd106', 'Golden penny spag', 35, 900)]"
   ]
  },
  {
   "cell_type": "code",
   "execution_count": 7,
   "metadata": {},
   "outputs": [
    {
     "name": "stdout",
     "output_type": "stream",
     "text": [
      "1062 (23000): Duplicate entry 'prd102' for key 'products.PRIMARY'\n"
     ]
    }
   ],
   "source": [
    "#This code inserts in  bulk\n",
    "insert_prd = '''\n",
    "insert into products (product_id, product_name, stock_count, price)\n",
    "values (%s, %s, %s, %s)\n",
    "'''\n",
    "\n",
    "try:\n",
    "    with connection.cursor(buffered=True) as cursor:\n",
    "        cursor.executemany(insert_prd, products)\n",
    "        connection.commit()\n",
    "        print(f'{cursor.rowcount} record(s) successfully entered')\n",
    "\n",
    "except Error as err:\n",
    "    print(err)"
   ]
  },
  {
   "cell_type": "code",
   "execution_count": 8,
   "metadata": {},
   "outputs": [
    {
     "name": "stdout",
     "output_type": "stream",
     "text": [
      "1062 (23000): Duplicate entry 'prd107' for key 'products.PRIMARY'\n"
     ]
    }
   ],
   "source": [
    "#this would also work\n",
    "try:\n",
    "    with connection.cursor(buffered = True) as cursor:\n",
    "            cursor.executemany(insert_prd, [('prd107', '5litre sunola oil', 30, 11500),\n",
    "                               ('prd108', 'Ducros Curry', 50, 850),\n",
    "                               ('prd109', 'pink himalayan salt', 10, 5000),\n",
    "                               ('prd110', 'Dangote salt 1kg', 100, 350),\n",
    "                               ('prd111', 'Golden penny spag', 35, 900)])\n",
    "            connection.commit()\n",
    "            print(f\"{cursor.rowcount} record(s) successfully entered\")\n",
    "except Error as err:\n",
    "    print(err)"
   ]
  },
  {
   "cell_type": "code",
   "execution_count": null,
   "metadata": {},
   "outputs": [],
   "source": [
    "#this didnt work as its not a list\n",
    "try:\n",
    "    with connection.cursor(buffered = True) as cursor:\n",
    "            cursor.executemany(insert_prd, ('prd107', '5litre sunola oil', 30, 11500),\n",
    "                               #gave error cos its not in a list\n",
    "                               ('prd108', 'Ducros Curry', 50, 850),\n",
    "                               ('prd109', 'pink himalayan salt', 10, 5000),\n",
    "                               ('prd110', 'Dangote salt 1kg', 100, 350),\n",
    "                               ('prd111', 'Golden penny spag', 35, 900))\n",
    "            connection.commit()\n",
    "            print(f\"{cursor.rowcount} record(s) successfully entered\")\n",
    "except Error as err:\n",
    "    print(err)"
   ]
  },
  {
   "cell_type": "code",
   "execution_count": 10,
   "metadata": {},
   "outputs": [
    {
     "name": "stdout",
     "output_type": "stream",
     "text": [
      "1062 (23000): Duplicate entry 'cst104' for key 'customers.PRIMARY'\n"
     ]
    }
   ],
   "source": [
    "#try one record input for customers too\n",
    "insert_customer = '''\n",
    "insert into customers (customer_id, cusstomer_name, phone_number, email_address, address)\n",
    "values(%s, %s, %s, %s, %s)\n",
    "'''\n",
    "\n",
    "try:\n",
    "    with connection.cursor(buffered=True) as cursor:\n",
    "        cursor.execute(insert_customer, ('cst104', 'Adu Ayomide', '07035728088', 'aduayomide44@gmail.com', 'Iyaganku Estate'))\n",
    "        connection.commit()\n",
    "        print(f'{cursor.rowcount} record(s) successfully entered')\n",
    "except Error as err:\n",
    "    print(err)"
   ]
  },
  {
   "cell_type": "code",
   "execution_count": 11,
   "metadata": {},
   "outputs": [
    {
     "name": "stdout",
     "output_type": "stream",
     "text": [
      "1062 (23000): Duplicate entry 'cst105' for key 'customers.PRIMARY'\n"
     ]
    }
   ],
   "source": [
    "#this will also work, which is what she used below\n",
    "try:\n",
    "    with connection.cursor(buffered=True) as cursor:\n",
    "        #You can just put this \"insert_customer\" inside the with command\n",
    "        insert_customer = '''\n",
    "                        insert into customers (customer_id, cusstomer_name, phone_number, email_address, address)\n",
    "                        values(%s, %s, %s, %s, %s)\n",
    "                        '''\n",
    "        cursor.execute(insert_customer, ('cst105', 'Adu Ayomide', '07035728088', 'aduayomide44@gmail.com', 'Iyaganku Estate'))\n",
    "        connection.commit()\n",
    "        print(f'{cursor.rowcount} record(s) successfully entered')\n",
    "except Error as err:\n",
    "    print(err)"
   ]
  },
  {
   "cell_type": "code",
   "execution_count": 12,
   "metadata": {},
   "outputs": [],
   "source": [
    "customer = [('cst101', 'Ayomide', '08033445566', 'ayomide@gmail.com', 'bodija'),\n",
    "            ('cst102', 'Hakeem', '07012345678', 'hakeem01@gmail.com', 'iyaganku'),\n",
    "            ('cst103', 'Johnson', '08111447738', 'johnne@gmail.com', 'elebu')]"
   ]
  },
  {
   "cell_type": "code",
   "execution_count": 13,
   "metadata": {},
   "outputs": [
    {
     "name": "stdout",
     "output_type": "stream",
     "text": [
      "1062 (23000): Duplicate entry 'cst101' for key 'customers.PRIMARY'\n"
     ]
    }
   ],
   "source": [
    "insert_cst = '''\n",
    "insert into customers (customer_id, cusstomer_name, phone_number, email_address, address)\n",
    "values (%s, %s, %s, %s, %s)\n",
    "'''\n",
    "\n",
    "try:\n",
    "    with connection.cursor(buffered=True) as cursor:\n",
    "        cursor.executemany(insert_cst, customer)\n",
    "        connection.commit()\n",
    "        print(f'{cursor.rowcount} record(s) successfully entered')\n",
    "\n",
    "except Error as err:\n",
    "    print(err)"
   ]
  },
  {
   "cell_type": "code",
   "execution_count": 14,
   "metadata": {},
   "outputs": [
    {
     "data": {
      "text/plain": [
       "'2024-07-24 09:59:18'"
      ]
     },
     "execution_count": 14,
     "metadata": {},
     "output_type": "execute_result"
    }
   ],
   "source": [
    "#For the sales table that has time\n",
    "import datetime\n",
    "d = datetime.datetime.now()\n",
    "orderdate = d.strftime('%Y-%m-%d %H:%M:%S')\n",
    "orderdate"
   ]
  },
  {
   "cell_type": "code",
   "execution_count": 15,
   "metadata": {},
   "outputs": [],
   "source": [
    "# insert_sales = '''\n",
    "# insert into sales (customer_id, order_date)\n",
    "# values (%s, %s)\n",
    "# '''\n",
    "# sales_id = '''\n",
    "# select max(sales_id) from sales\n",
    "# '''\n",
    "# customer_id = 'cst102'\n",
    "# try:\n",
    "#     with connection.cursor(buffered=True) as cursor:\n",
    "#         cursor.execute(insert_sales, (customer_id, orderdate))\n",
    "#         cursor.execute(sales_id)\n",
    "#         print(sales_id)\n",
    "# except Error as err:\n",
    "#     print(err)"
   ]
  },
  {
   "cell_type": "code",
   "execution_count": 18,
   "metadata": {},
   "outputs": [
    {
     "name": "stdout",
     "output_type": "stream",
     "text": [
      "9\n",
      "Could not process parameters: str(prd102), it must be of type list, tuple or dict\n"
     ]
    }
   ],
   "source": [
    "insert_sales = '''\n",
    "insert into sales (customer_id, order_date)\n",
    "values (%s, %s)\n",
    "'''\n",
    "osales_id = '''\n",
    "select max(sales_id) from sales\n",
    "'''\n",
    "\n",
    "customer_id = 'cst102'\n",
    "cst_order = [('prd102', 6),\n",
    "             ('prd101', 2)]\n",
    "\n",
    "prd_from_customer = '''\n",
    "select price, stock_count, product_name from products\n",
    "where product_id = %s\n",
    "'''\n",
    "\n",
    "try:\n",
    "    with connection.cursor(buffered=True) as cursor:\n",
    "        cursor.execute(insert_sales, (customer_id, orderdate))\n",
    "        cursor.execute(osales_id)\n",
    "        sales_id = cursor.fetchone()[0]\n",
    "        print(sales_id)\n",
    "        \n",
    "        #so we have filled the table with the products we have and the informaions,\n",
    "        # we then want to call what we have filled and use for our new customers(s) info\n",
    "        for prd_id, quantity_ordered in cst_order: \n",
    "            cursor.execute(prd_from_customer, (prd_id))\n",
    "            fetched_prd_price = cursor.fetchone()\n",
    "            fetched_stock_count = cursor.fetchone()\n",
    "            fetched_prd_name = cursor.fetchone()\n",
    "        #done with this, next is to reduce\n",
    "\n",
    "        if fetched_stock_count>=quantity_ordered:\n",
    "            new_qty = fetched_stock_count-quantity_ordered\n",
    "\n",
    "        update_products = '''\n",
    "        update products set stock_counts = %s\n",
    "        where product_id = %s\n",
    "        '''\n",
    "        cursor.execute(update_products, (new_qty,prd_id))\n",
    "        #done, products, customers, and sales are handled. finally now to sales details\n",
    "\n",
    "        total = quantity_ordered * fetched_prd_price\n",
    "        insert_salaes_details = '''\n",
    "                                insert from sales_details (sales_id, product_id, quantity, total)\n",
    "                                values (%s, %s, %s, %s)\n",
    "                                '''\n",
    "        cursor.execute(insert_salaes_details, osales_id, )\n",
    "\n",
    "except Error as err:\n",
    "    print(err)"
   ]
  },
  {
   "cell_type": "code",
   "execution_count": null,
   "metadata": {},
   "outputs": [],
   "source": [
    "total = quantity_ordered * fetched_prd_price\n",
    "print(total)"
   ]
  },
  {
   "cell_type": "code",
   "execution_count": null,
   "metadata": {},
   "outputs": [],
   "source": []
  }
 ],
 "metadata": {
  "kernelspec": {
   "display_name": "Python 3",
   "language": "python",
   "name": "python3"
  },
  "language_info": {
   "codemirror_mode": {
    "name": "ipython",
    "version": 3
   },
   "file_extension": ".py",
   "mimetype": "text/x-python",
   "name": "python",
   "nbconvert_exporter": "python",
   "pygments_lexer": "ipython3",
   "version": "3.12.6"
  }
 },
 "nbformat": 4,
 "nbformat_minor": 2
}
